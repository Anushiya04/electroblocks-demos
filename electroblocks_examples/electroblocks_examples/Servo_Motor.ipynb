{
 "cells": [
  {
   "cell_type": "markdown",
   "id": "f166a431-70e0-45f2-bef5-f776af9388e4",
   "metadata": {},
   "source": [
    "# ElectroBlocks Demo 2: Servo Motor Sweep\n",
    "\n",
    "## 🔍 Objective\n",
    "### To sweep a servo motor from 0° to 180° and back using ElectroBlocks.\n",
    "\n",
    "## 📷 ElectroBlock Diagram\n",
    "<img src=\"servo.png\">\n",
    "\n",
    "\n",
    "## 🪛 Steps\n",
    "### 1. Connect a servo motor to pin 9 of the Arduino Uno.\n",
    "### 2. Power the servo externally or through Arduino 5V (if current is low).\n",
    "### 3. Upload the ElectroBlocks firmware.\n",
    "### 4. Run the following code."
   ]
  },
  {
   "cell_type": "code",
   "execution_count": 2,
   "id": "b09ebdae-bee9-4be1-acec-dced86d470fe",
   "metadata": {},
   "outputs": [
    {
     "ename": "Exception",
     "evalue": "No Arduino Uno or Mega found.",
     "output_type": "error",
     "traceback": [
      "\u001b[31m---------------------------------------------------------------------------\u001b[39m",
      "\u001b[31mException\u001b[39m                                 Traceback (most recent call last)",
      "\u001b[36mCell\u001b[39m\u001b[36m \u001b[39m\u001b[32mIn[2]\u001b[39m\u001b[32m, line 7\u001b[39m\n\u001b[32m      3\u001b[39m \u001b[38;5;28;01mimport\u001b[39;00m\u001b[38;5;250m \u001b[39m\u001b[34;01mtime\u001b[39;00m \u001b[38;5;66;03m# imports the time library\u001b[39;00m\n\u001b[32m      6\u001b[39m \u001b[38;5;66;03m# Initialise the program settings and configurations\u001b[39;00m\n\u001b[32m----> \u001b[39m\u001b[32m7\u001b[39m eb = \u001b[43mElectroBlocks\u001b[49m\u001b[43m(\u001b[49m\u001b[43m)\u001b[49m  \u001b[38;5;66;03m# Create an instance of the ElectroBlocks class\u001b[39;00m\n\u001b[32m      8\u001b[39m eb.config_servo(\u001b[32m2\u001b[39m) \u001b[38;5;66;03m# Configures the servo motor on pin 2\u001b[39;00m\n\u001b[32m     12\u001b[39m \u001b[38;5;28;01mwhile\u001b[39;00m \u001b[38;5;28;01mTrue\u001b[39;00m:\n",
      "\u001b[36mFile \u001b[39m\u001b[32m~\\AppData\\Local\\Programs\\Python\\Python313\\Lib\\site-packages\\electroblocks\\core.py:7\u001b[39m, in \u001b[36mElectroBlocks.__init__\u001b[39m\u001b[34m(self, baudrate, timeout)\u001b[39m\n\u001b[32m      6\u001b[39m \u001b[38;5;28;01mdef\u001b[39;00m\u001b[38;5;250m \u001b[39m\u001b[34m__init__\u001b[39m(\u001b[38;5;28mself\u001b[39m, baudrate=\u001b[32m115200\u001b[39m, timeout=\u001b[32m2\u001b[39m):\n\u001b[32m----> \u001b[39m\u001b[32m7\u001b[39m     \u001b[38;5;28mself\u001b[39m.ser = \u001b[38;5;28;43mself\u001b[39;49m\u001b[43m.\u001b[49m\u001b[43m_auto_connect\u001b[49m\u001b[43m(\u001b[49m\u001b[43mbaudrate\u001b[49m\u001b[43m,\u001b[49m\u001b[43m \u001b[49m\u001b[43mtimeout\u001b[49m\u001b[43m)\u001b[49m\n\u001b[32m      8\u001b[39m     \u001b[38;5;28mself\u001b[39m._wait_for_ready()\n",
      "\u001b[36mFile \u001b[39m\u001b[32m~\\AppData\\Local\\Programs\\Python\\Python313\\Lib\\site-packages\\electroblocks\\core.py:20\u001b[39m, in \u001b[36mElectroBlocks._auto_connect\u001b[39m\u001b[34m(self, baudrate, timeout)\u001b[39m\n\u001b[32m     18\u001b[39m         \u001b[38;5;28;01mexcept\u001b[39;00m serial.SerialException:\n\u001b[32m     19\u001b[39m             \u001b[38;5;28;01mcontinue\u001b[39;00m\n\u001b[32m---> \u001b[39m\u001b[32m20\u001b[39m \u001b[38;5;28;01mraise\u001b[39;00m \u001b[38;5;167;01mException\u001b[39;00m(\u001b[33m\"\u001b[39m\u001b[33mNo Arduino Uno or Mega found.\u001b[39m\u001b[33m\"\u001b[39m)\n",
      "\u001b[31mException\u001b[39m: No Arduino Uno or Mega found."
     ]
    }
   ],
   "source": [
    "#Import ElectroBlocks library\n",
    "from electroblocks import ElectroBlocks\n",
    "import time # imports the time library\n",
    "\n",
    "\n",
    "# Initialise the program settings and configurations\n",
    "eb = ElectroBlocks()  # Create an instance of the ElectroBlocks class\n",
    "eb.config_servo(2) # Configures the servo motor on pin 2\n",
    "\n",
    "\n",
    "\n",
    "while True:\n",
    "  eb.move_servo(2, 50) # Rotate servo position to 50 degrees\n",
    "  time.sleep(0.2); # Wait for the given/defined seconds.\n",
    "  eb.move_servo(2, 50) # Rotate servo position to 50 degrees\n",
    "  time.sleep(0.2); # Wait for the given/defined seconds."
   ]
  },
  {
   "cell_type": "code",
   "execution_count": null,
   "id": "34a18255-a935-4005-854d-a76ab08ebe23",
   "metadata": {},
   "outputs": [],
   "source": []
  }
 ],
 "metadata": {
  "kernelspec": {
   "display_name": "Python 3 (ipykernel)",
   "language": "python",
   "name": "python3"
  },
  "language_info": {
   "codemirror_mode": {
    "name": "ipython",
    "version": 3
   },
   "file_extension": ".py",
   "mimetype": "text/x-python",
   "name": "python",
   "nbconvert_exporter": "python",
   "pygments_lexer": "ipython3",
   "version": "3.13.0"
  }
 },
 "nbformat": 4,
 "nbformat_minor": 5
}
