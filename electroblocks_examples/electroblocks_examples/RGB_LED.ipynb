{
 "cells": [
  {
   "cell_type": "code",
   "execution_count": null,
   "id": "6c0ec0de-3a7a-44ae-a142-1b227fddea56",
   "metadata": {},
   "outputs": [],
   "source": [
    "#Import ElectroBlocks library\n",
    "from electroblocks import ElectroBlocks\n",
    "\n",
    "from dataclasses import dataclass\n",
    "\n",
    "@dataclass\n",
    "class RGB:\n",
    "  red: float\n",
    "  green: float\n",
    "  blue: float\n",
    "\n",
    "\n",
    "# Initialise the program settings and configurations\n",
    "eb = ElectroBlocks() # Create an instance of the ElectroBlocks class\n",
    "eb.config_rgb(11, 10, 9) # Configures the RGB LED pins\n",
    "\n",
    "\n",
    "\n",
    "while True:\n",
    "  dev_color = RGB(255, 0, 0) # Create the RGB color object.\n",
    "  eb.set_rgb(dev_color.red, dev_color.green, dev_color.blue) # Set the RGB LED color on the Arduino."
   ]
  }
 ],
 "metadata": {
  "kernelspec": {
   "display_name": "Python 3 (ipykernel)",
   "language": "python",
   "name": "python3"
  },
  "language_info": {
   "codemirror_mode": {
    "name": "ipython",
    "version": 3
   },
   "file_extension": ".py",
   "mimetype": "text/x-python",
   "name": "python",
   "nbconvert_exporter": "python",
   "pygments_lexer": "ipython3",
   "version": "3.13.0"
  }
 },
 "nbformat": 4,
 "nbformat_minor": 5
}
